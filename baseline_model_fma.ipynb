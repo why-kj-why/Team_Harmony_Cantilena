{
 "cells": [
  {
   "cell_type": "code",
   "execution_count": 1,
   "metadata": {},
   "outputs": [],
   "source": [
    "import pandas as pd\n",
    "import os\n",
    "import ast\n",
    "\n",
    "import sklearn as skl\n",
    "import sklearn.utils, sklearn.preprocessing, sklearn.decomposition, sklearn.svm\n",
    "import matplotlib.pyplot as plt\n",
    "%matplotlib inline\n",
    "\n",
    "import seaborn as sns\n",
    "import numpy as np"
   ]
  },
  {
   "cell_type": "markdown",
   "metadata": {},
   "source": [
    "### Load data"
   ]
  },
  {
   "cell_type": "code",
   "execution_count": 2,
   "metadata": {},
   "outputs": [
    {
     "data": {
      "text/html": [
       "<div>\n",
       "<style scoped>\n",
       "    .dataframe tbody tr th:only-of-type {\n",
       "        vertical-align: middle;\n",
       "    }\n",
       "\n",
       "    .dataframe tbody tr th {\n",
       "        vertical-align: top;\n",
       "    }\n",
       "\n",
       "    .dataframe thead tr th {\n",
       "        text-align: left;\n",
       "    }\n",
       "\n",
       "    .dataframe thead tr:last-of-type th {\n",
       "        text-align: right;\n",
       "    }\n",
       "</style>\n",
       "<table border=\"1\" class=\"dataframe\">\n",
       "  <thead>\n",
       "    <tr>\n",
       "      <th></th>\n",
       "      <th colspan=\"10\" halign=\"left\">album</th>\n",
       "      <th>...</th>\n",
       "      <th colspan=\"10\" halign=\"left\">track</th>\n",
       "    </tr>\n",
       "    <tr>\n",
       "      <th></th>\n",
       "      <th>comments</th>\n",
       "      <th>date_created</th>\n",
       "      <th>date_released</th>\n",
       "      <th>engineer</th>\n",
       "      <th>favorites</th>\n",
       "      <th>id</th>\n",
       "      <th>information</th>\n",
       "      <th>listens</th>\n",
       "      <th>producer</th>\n",
       "      <th>tags</th>\n",
       "      <th>...</th>\n",
       "      <th>information</th>\n",
       "      <th>interest</th>\n",
       "      <th>language_code</th>\n",
       "      <th>license</th>\n",
       "      <th>listens</th>\n",
       "      <th>lyricist</th>\n",
       "      <th>number</th>\n",
       "      <th>publisher</th>\n",
       "      <th>tags</th>\n",
       "      <th>title</th>\n",
       "    </tr>\n",
       "    <tr>\n",
       "      <th>track_id</th>\n",
       "      <th></th>\n",
       "      <th></th>\n",
       "      <th></th>\n",
       "      <th></th>\n",
       "      <th></th>\n",
       "      <th></th>\n",
       "      <th></th>\n",
       "      <th></th>\n",
       "      <th></th>\n",
       "      <th></th>\n",
       "      <th></th>\n",
       "      <th></th>\n",
       "      <th></th>\n",
       "      <th></th>\n",
       "      <th></th>\n",
       "      <th></th>\n",
       "      <th></th>\n",
       "      <th></th>\n",
       "      <th></th>\n",
       "      <th></th>\n",
       "      <th></th>\n",
       "    </tr>\n",
       "  </thead>\n",
       "  <tbody>\n",
       "    <tr>\n",
       "      <th>2</th>\n",
       "      <td>0</td>\n",
       "      <td>2008-11-26 01:44:45</td>\n",
       "      <td>2009-01-05 00:00:00</td>\n",
       "      <td>NaN</td>\n",
       "      <td>4</td>\n",
       "      <td>1</td>\n",
       "      <td>&lt;p&gt;&lt;/p&gt;</td>\n",
       "      <td>6073</td>\n",
       "      <td>NaN</td>\n",
       "      <td>[]</td>\n",
       "      <td>...</td>\n",
       "      <td>NaN</td>\n",
       "      <td>4656</td>\n",
       "      <td>en</td>\n",
       "      <td>Attribution-NonCommercial-ShareAlike 3.0 Inter...</td>\n",
       "      <td>1293</td>\n",
       "      <td>NaN</td>\n",
       "      <td>3</td>\n",
       "      <td>NaN</td>\n",
       "      <td>[]</td>\n",
       "      <td>Food</td>\n",
       "    </tr>\n",
       "    <tr>\n",
       "      <th>3</th>\n",
       "      <td>0</td>\n",
       "      <td>2008-11-26 01:44:45</td>\n",
       "      <td>2009-01-05 00:00:00</td>\n",
       "      <td>NaN</td>\n",
       "      <td>4</td>\n",
       "      <td>1</td>\n",
       "      <td>&lt;p&gt;&lt;/p&gt;</td>\n",
       "      <td>6073</td>\n",
       "      <td>NaN</td>\n",
       "      <td>[]</td>\n",
       "      <td>...</td>\n",
       "      <td>NaN</td>\n",
       "      <td>1470</td>\n",
       "      <td>en</td>\n",
       "      <td>Attribution-NonCommercial-ShareAlike 3.0 Inter...</td>\n",
       "      <td>514</td>\n",
       "      <td>NaN</td>\n",
       "      <td>4</td>\n",
       "      <td>NaN</td>\n",
       "      <td>[]</td>\n",
       "      <td>Electric Ave</td>\n",
       "    </tr>\n",
       "    <tr>\n",
       "      <th>5</th>\n",
       "      <td>0</td>\n",
       "      <td>2008-11-26 01:44:45</td>\n",
       "      <td>2009-01-05 00:00:00</td>\n",
       "      <td>NaN</td>\n",
       "      <td>4</td>\n",
       "      <td>1</td>\n",
       "      <td>&lt;p&gt;&lt;/p&gt;</td>\n",
       "      <td>6073</td>\n",
       "      <td>NaN</td>\n",
       "      <td>[]</td>\n",
       "      <td>...</td>\n",
       "      <td>NaN</td>\n",
       "      <td>1933</td>\n",
       "      <td>en</td>\n",
       "      <td>Attribution-NonCommercial-ShareAlike 3.0 Inter...</td>\n",
       "      <td>1151</td>\n",
       "      <td>NaN</td>\n",
       "      <td>6</td>\n",
       "      <td>NaN</td>\n",
       "      <td>[]</td>\n",
       "      <td>This World</td>\n",
       "    </tr>\n",
       "    <tr>\n",
       "      <th>10</th>\n",
       "      <td>0</td>\n",
       "      <td>2008-11-26 01:45:08</td>\n",
       "      <td>2008-02-06 00:00:00</td>\n",
       "      <td>NaN</td>\n",
       "      <td>4</td>\n",
       "      <td>6</td>\n",
       "      <td>NaN</td>\n",
       "      <td>47632</td>\n",
       "      <td>NaN</td>\n",
       "      <td>[]</td>\n",
       "      <td>...</td>\n",
       "      <td>NaN</td>\n",
       "      <td>54881</td>\n",
       "      <td>en</td>\n",
       "      <td>Attribution-NonCommercial-NoDerivatives (aka M...</td>\n",
       "      <td>50135</td>\n",
       "      <td>NaN</td>\n",
       "      <td>1</td>\n",
       "      <td>NaN</td>\n",
       "      <td>[]</td>\n",
       "      <td>Freeway</td>\n",
       "    </tr>\n",
       "    <tr>\n",
       "      <th>20</th>\n",
       "      <td>0</td>\n",
       "      <td>2008-11-26 01:45:05</td>\n",
       "      <td>2009-01-06 00:00:00</td>\n",
       "      <td>NaN</td>\n",
       "      <td>2</td>\n",
       "      <td>4</td>\n",
       "      <td>&lt;p&gt; \"spiritual songs\" from Nicky Cook&lt;/p&gt;</td>\n",
       "      <td>2710</td>\n",
       "      <td>NaN</td>\n",
       "      <td>[]</td>\n",
       "      <td>...</td>\n",
       "      <td>NaN</td>\n",
       "      <td>978</td>\n",
       "      <td>en</td>\n",
       "      <td>Attribution-NonCommercial-NoDerivatives (aka M...</td>\n",
       "      <td>361</td>\n",
       "      <td>NaN</td>\n",
       "      <td>3</td>\n",
       "      <td>NaN</td>\n",
       "      <td>[]</td>\n",
       "      <td>Spiritual Level</td>\n",
       "    </tr>\n",
       "  </tbody>\n",
       "</table>\n",
       "<p>5 rows × 52 columns</p>\n",
       "</div>"
      ],
      "text/plain": [
       "            album                                                     \\\n",
       "         comments         date_created        date_released engineer   \n",
       "track_id                                                               \n",
       "2               0  2008-11-26 01:44:45  2009-01-05 00:00:00      NaN   \n",
       "3               0  2008-11-26 01:44:45  2009-01-05 00:00:00      NaN   \n",
       "5               0  2008-11-26 01:44:45  2009-01-05 00:00:00      NaN   \n",
       "10              0  2008-11-26 01:45:08  2008-02-06 00:00:00      NaN   \n",
       "20              0  2008-11-26 01:45:05  2009-01-06 00:00:00      NaN   \n",
       "\n",
       "                                                                          \\\n",
       "         favorites id                                information listens   \n",
       "track_id                                                                   \n",
       "2                4  1                                    <p></p>    6073   \n",
       "3                4  1                                    <p></p>    6073   \n",
       "5                4  1                                    <p></p>    6073   \n",
       "10               4  6                                        NaN   47632   \n",
       "20               2  4  <p> \"spiritual songs\" from Nicky Cook</p>    2710   \n",
       "\n",
       "                        ...       track                         \\\n",
       "         producer tags  ... information interest language_code   \n",
       "track_id                ...                                      \n",
       "2             NaN   []  ...         NaN     4656            en   \n",
       "3             NaN   []  ...         NaN     1470            en   \n",
       "5             NaN   []  ...         NaN     1933            en   \n",
       "10            NaN   []  ...         NaN    54881            en   \n",
       "20            NaN   []  ...         NaN      978            en   \n",
       "\n",
       "                                                                              \\\n",
       "                                                    license listens lyricist   \n",
       "track_id                                                                       \n",
       "2         Attribution-NonCommercial-ShareAlike 3.0 Inter...    1293      NaN   \n",
       "3         Attribution-NonCommercial-ShareAlike 3.0 Inter...     514      NaN   \n",
       "5         Attribution-NonCommercial-ShareAlike 3.0 Inter...    1151      NaN   \n",
       "10        Attribution-NonCommercial-NoDerivatives (aka M...   50135      NaN   \n",
       "20        Attribution-NonCommercial-NoDerivatives (aka M...     361      NaN   \n",
       "\n",
       "                                                 \n",
       "         number publisher tags            title  \n",
       "track_id                                         \n",
       "2             3       NaN   []             Food  \n",
       "3             4       NaN   []     Electric Ave  \n",
       "5             6       NaN   []       This World  \n",
       "10            1       NaN   []          Freeway  \n",
       "20            3       NaN   []  Spiritual Level  \n",
       "\n",
       "[5 rows x 52 columns]"
      ]
     },
     "execution_count": 2,
     "metadata": {},
     "output_type": "execute_result"
    }
   ],
   "source": [
    "filepath = r\"C:\\Users\\kayja\\Documents\\Music_NN\\project\\genre\\fma_metadata\\fma_metadata\\tracks.csv\"\n",
    "tracks = pd.read_csv(filepath, index_col=0, header=[0, 1])\n",
    "tracks.head()"
   ]
  },
  {
   "cell_type": "code",
   "execution_count": 3,
   "metadata": {},
   "outputs": [
    {
     "data": {
      "text/html": [
       "<div>\n",
       "<style scoped>\n",
       "    .dataframe tbody tr th:only-of-type {\n",
       "        vertical-align: middle;\n",
       "    }\n",
       "\n",
       "    .dataframe tbody tr th {\n",
       "        vertical-align: top;\n",
       "    }\n",
       "\n",
       "    .dataframe thead tr th {\n",
       "        text-align: left;\n",
       "    }\n",
       "\n",
       "    .dataframe thead tr:last-of-type th {\n",
       "        text-align: right;\n",
       "    }\n",
       "</style>\n",
       "<table border=\"1\" class=\"dataframe\">\n",
       "  <thead>\n",
       "    <tr>\n",
       "      <th></th>\n",
       "      <th colspan=\"2\" halign=\"left\">set</th>\n",
       "      <th colspan=\"2\" halign=\"left\">track</th>\n",
       "    </tr>\n",
       "    <tr>\n",
       "      <th></th>\n",
       "      <th>split</th>\n",
       "      <th>subset</th>\n",
       "      <th>genre_top</th>\n",
       "      <th>genres</th>\n",
       "    </tr>\n",
       "    <tr>\n",
       "      <th>track_id</th>\n",
       "      <th></th>\n",
       "      <th></th>\n",
       "      <th></th>\n",
       "      <th></th>\n",
       "    </tr>\n",
       "  </thead>\n",
       "  <tbody>\n",
       "    <tr>\n",
       "      <th>2</th>\n",
       "      <td>training</td>\n",
       "      <td>small</td>\n",
       "      <td>Hip-Hop</td>\n",
       "      <td>[21]</td>\n",
       "    </tr>\n",
       "    <tr>\n",
       "      <th>3</th>\n",
       "      <td>training</td>\n",
       "      <td>medium</td>\n",
       "      <td>Hip-Hop</td>\n",
       "      <td>[21]</td>\n",
       "    </tr>\n",
       "    <tr>\n",
       "      <th>5</th>\n",
       "      <td>training</td>\n",
       "      <td>small</td>\n",
       "      <td>Hip-Hop</td>\n",
       "      <td>[21]</td>\n",
       "    </tr>\n",
       "    <tr>\n",
       "      <th>10</th>\n",
       "      <td>training</td>\n",
       "      <td>small</td>\n",
       "      <td>Pop</td>\n",
       "      <td>[10]</td>\n",
       "    </tr>\n",
       "    <tr>\n",
       "      <th>20</th>\n",
       "      <td>training</td>\n",
       "      <td>large</td>\n",
       "      <td>NaN</td>\n",
       "      <td>[76, 103]</td>\n",
       "    </tr>\n",
       "  </tbody>\n",
       "</table>\n",
       "</div>"
      ],
      "text/plain": [
       "               set             track           \n",
       "             split  subset genre_top     genres\n",
       "track_id                                       \n",
       "2         training   small   Hip-Hop       [21]\n",
       "3         training  medium   Hip-Hop       [21]\n",
       "5         training   small   Hip-Hop       [21]\n",
       "10        training   small       Pop       [10]\n",
       "20        training   large       NaN  [76, 103]"
      ]
     },
     "execution_count": 3,
     "metadata": {},
     "output_type": "execute_result"
    }
   ],
   "source": [
    "keep_cols = [('set', 'split'),\n",
    "('set', 'subset'),('track', 'genre_top'), ('track', 'genres')]\n",
    "\n",
    "tracks = tracks[keep_cols]\n",
    "tracks.head()"
   ]
  },
  {
   "cell_type": "markdown",
   "metadata": {},
   "source": [
    "### Look at the MFCC Features"
   ]
  },
  {
   "cell_type": "code",
   "execution_count": 5,
   "metadata": {},
   "outputs": [],
   "source": [
    "filepath = r\"C:\\Users\\kayja\\Documents\\Music_NN\\project\\genre\\fma_metadata\\fma_metadata\\features.csv\"\n",
    "features = pd.read_csv(filepath, index_col=0,header=[0, 1, 2], skip_blank_lines=True )"
   ]
  },
  {
   "cell_type": "code",
   "execution_count": 6,
   "metadata": {},
   "outputs": [
    {
     "data": {
      "text/html": [
       "<div>\n",
       "<style scoped>\n",
       "    .dataframe tbody tr th:only-of-type {\n",
       "        vertical-align: middle;\n",
       "    }\n",
       "\n",
       "    .dataframe tbody tr th {\n",
       "        vertical-align: top;\n",
       "    }\n",
       "\n",
       "    .dataframe thead tr th {\n",
       "        text-align: left;\n",
       "    }\n",
       "\n",
       "    .dataframe thead tr:last-of-type th {\n",
       "        text-align: right;\n",
       "    }\n",
       "</style>\n",
       "<table border=\"1\" class=\"dataframe\">\n",
       "  <thead>\n",
       "    <tr>\n",
       "      <th>statistics</th>\n",
       "      <th colspan=\"10\" halign=\"left\">kurtosis</th>\n",
       "      <th>...</th>\n",
       "      <th colspan=\"10\" halign=\"left\">std</th>\n",
       "    </tr>\n",
       "    <tr>\n",
       "      <th>number</th>\n",
       "      <th>01</th>\n",
       "      <th>02</th>\n",
       "      <th>03</th>\n",
       "      <th>04</th>\n",
       "      <th>05</th>\n",
       "      <th>06</th>\n",
       "      <th>07</th>\n",
       "      <th>08</th>\n",
       "      <th>09</th>\n",
       "      <th>10</th>\n",
       "      <th>...</th>\n",
       "      <th>11</th>\n",
       "      <th>12</th>\n",
       "      <th>13</th>\n",
       "      <th>14</th>\n",
       "      <th>15</th>\n",
       "      <th>16</th>\n",
       "      <th>17</th>\n",
       "      <th>18</th>\n",
       "      <th>19</th>\n",
       "      <th>20</th>\n",
       "    </tr>\n",
       "    <tr>\n",
       "      <th>track_id</th>\n",
       "      <th></th>\n",
       "      <th></th>\n",
       "      <th></th>\n",
       "      <th></th>\n",
       "      <th></th>\n",
       "      <th></th>\n",
       "      <th></th>\n",
       "      <th></th>\n",
       "      <th></th>\n",
       "      <th></th>\n",
       "      <th></th>\n",
       "      <th></th>\n",
       "      <th></th>\n",
       "      <th></th>\n",
       "      <th></th>\n",
       "      <th></th>\n",
       "      <th></th>\n",
       "      <th></th>\n",
       "      <th></th>\n",
       "      <th></th>\n",
       "      <th></th>\n",
       "    </tr>\n",
       "  </thead>\n",
       "  <tbody>\n",
       "    <tr>\n",
       "      <th>2</th>\n",
       "      <td>3.856789</td>\n",
       "      <td>1.541901</td>\n",
       "      <td>0.000816</td>\n",
       "      <td>0.330728</td>\n",
       "      <td>0.118731</td>\n",
       "      <td>-0.342687</td>\n",
       "      <td>-0.259252</td>\n",
       "      <td>0.146735</td>\n",
       "      <td>0.410656</td>\n",
       "      <td>-0.162872</td>\n",
       "      <td>...</td>\n",
       "      <td>10.059609</td>\n",
       "      <td>8.601942</td>\n",
       "      <td>9.284250</td>\n",
       "      <td>9.245516</td>\n",
       "      <td>8.520863</td>\n",
       "      <td>8.560472</td>\n",
       "      <td>7.651871</td>\n",
       "      <td>7.246555</td>\n",
       "      <td>7.077188</td>\n",
       "      <td>7.391859</td>\n",
       "    </tr>\n",
       "    <tr>\n",
       "      <th>3</th>\n",
       "      <td>4.296755</td>\n",
       "      <td>1.399977</td>\n",
       "      <td>0.112535</td>\n",
       "      <td>-0.211170</td>\n",
       "      <td>0.032953</td>\n",
       "      <td>-0.023489</td>\n",
       "      <td>0.150404</td>\n",
       "      <td>0.046454</td>\n",
       "      <td>0.033484</td>\n",
       "      <td>-0.064596</td>\n",
       "      <td>...</td>\n",
       "      <td>8.771966</td>\n",
       "      <td>10.026867</td>\n",
       "      <td>6.978541</td>\n",
       "      <td>7.650417</td>\n",
       "      <td>9.600357</td>\n",
       "      <td>7.222888</td>\n",
       "      <td>8.398293</td>\n",
       "      <td>7.285423</td>\n",
       "      <td>7.417791</td>\n",
       "      <td>8.777440</td>\n",
       "    </tr>\n",
       "    <tr>\n",
       "      <th>5</th>\n",
       "      <td>2.624517</td>\n",
       "      <td>2.415293</td>\n",
       "      <td>0.440233</td>\n",
       "      <td>-0.782131</td>\n",
       "      <td>-0.771069</td>\n",
       "      <td>-0.724216</td>\n",
       "      <td>0.090260</td>\n",
       "      <td>0.152119</td>\n",
       "      <td>0.261731</td>\n",
       "      <td>-0.608905</td>\n",
       "      <td>...</td>\n",
       "      <td>8.863638</td>\n",
       "      <td>9.581952</td>\n",
       "      <td>8.895723</td>\n",
       "      <td>8.141456</td>\n",
       "      <td>8.201844</td>\n",
       "      <td>7.780963</td>\n",
       "      <td>7.132692</td>\n",
       "      <td>7.539753</td>\n",
       "      <td>8.452527</td>\n",
       "      <td>7.334442</td>\n",
       "    </tr>\n",
       "    <tr>\n",
       "      <th>10</th>\n",
       "      <td>5.076893</td>\n",
       "      <td>1.161854</td>\n",
       "      <td>2.095651</td>\n",
       "      <td>1.372743</td>\n",
       "      <td>-0.203574</td>\n",
       "      <td>-0.345354</td>\n",
       "      <td>-0.529139</td>\n",
       "      <td>0.561974</td>\n",
       "      <td>0.281350</td>\n",
       "      <td>-0.150672</td>\n",
       "      <td>...</td>\n",
       "      <td>8.289734</td>\n",
       "      <td>7.985110</td>\n",
       "      <td>7.075400</td>\n",
       "      <td>6.972649</td>\n",
       "      <td>7.071393</td>\n",
       "      <td>7.270959</td>\n",
       "      <td>7.051070</td>\n",
       "      <td>6.928591</td>\n",
       "      <td>6.430473</td>\n",
       "      <td>6.186294</td>\n",
       "    </tr>\n",
       "    <tr>\n",
       "      <th>20</th>\n",
       "      <td>11.880132</td>\n",
       "      <td>4.085320</td>\n",
       "      <td>0.002655</td>\n",
       "      <td>1.518562</td>\n",
       "      <td>0.181947</td>\n",
       "      <td>0.339014</td>\n",
       "      <td>0.367611</td>\n",
       "      <td>0.069932</td>\n",
       "      <td>-0.016032</td>\n",
       "      <td>0.026012</td>\n",
       "      <td>...</td>\n",
       "      <td>7.706648</td>\n",
       "      <td>6.498904</td>\n",
       "      <td>6.845514</td>\n",
       "      <td>6.934421</td>\n",
       "      <td>7.019398</td>\n",
       "      <td>6.983841</td>\n",
       "      <td>6.813648</td>\n",
       "      <td>7.520811</td>\n",
       "      <td>7.098001</td>\n",
       "      <td>7.032246</td>\n",
       "    </tr>\n",
       "  </tbody>\n",
       "</table>\n",
       "<p>5 rows × 140 columns</p>\n",
       "</div>"
      ],
      "text/plain": [
       "statistics   kurtosis                                                    \\\n",
       "number             01        02        03        04        05        06   \n",
       "track_id                                                                  \n",
       "2            3.856789  1.541901  0.000816  0.330728  0.118731 -0.342687   \n",
       "3            4.296755  1.399977  0.112535 -0.211170  0.032953 -0.023489   \n",
       "5            2.624517  2.415293  0.440233 -0.782131 -0.771069 -0.724216   \n",
       "10           5.076893  1.161854  2.095651  1.372743 -0.203574 -0.345354   \n",
       "20          11.880132  4.085320  0.002655  1.518562  0.181947  0.339014   \n",
       "\n",
       "statistics                                          ...        std             \\\n",
       "number            07        08        09        10  ...         11         12   \n",
       "track_id                                            ...                         \n",
       "2          -0.259252  0.146735  0.410656 -0.162872  ...  10.059609   8.601942   \n",
       "3           0.150404  0.046454  0.033484 -0.064596  ...   8.771966  10.026867   \n",
       "5           0.090260  0.152119  0.261731 -0.608905  ...   8.863638   9.581952   \n",
       "10         -0.529139  0.561974  0.281350 -0.150672  ...   8.289734   7.985110   \n",
       "20          0.367611  0.069932 -0.016032  0.026012  ...   7.706648   6.498904   \n",
       "\n",
       "statistics                                                              \\\n",
       "number            13        14        15        16        17        18   \n",
       "track_id                                                                 \n",
       "2           9.284250  9.245516  8.520863  8.560472  7.651871  7.246555   \n",
       "3           6.978541  7.650417  9.600357  7.222888  8.398293  7.285423   \n",
       "5           8.895723  8.141456  8.201844  7.780963  7.132692  7.539753   \n",
       "10          7.075400  6.972649  7.071393  7.270959  7.051070  6.928591   \n",
       "20          6.845514  6.934421  7.019398  6.983841  6.813648  7.520811   \n",
       "\n",
       "statistics                      \n",
       "number            19        20  \n",
       "track_id                        \n",
       "2           7.077188  7.391859  \n",
       "3           7.417791  8.777440  \n",
       "5           8.452527  7.334442  \n",
       "10          6.430473  6.186294  \n",
       "20          7.098001  7.032246  \n",
       "\n",
       "[5 rows x 140 columns]"
      ]
     },
     "execution_count": 6,
     "metadata": {},
     "output_type": "execute_result"
    }
   ],
   "source": [
    "mfcc = features['mfcc']\n",
    "mfcc.head()"
   ]
  },
  {
   "cell_type": "markdown",
   "metadata": {},
   "source": [
    "### PCA Analysis and Visualizations"
   ]
  },
  {
   "cell_type": "markdown",
   "metadata": {},
   "source": [
    "#### 2 Genres"
   ]
  },
  {
   "cell_type": "code",
   "execution_count": 7,
   "metadata": {},
   "outputs": [
    {
     "name": "stdout",
     "output_type": "stream",
     "text": [
      "(106574,) (106574,) (106574,)\n"
     ]
    },
    {
     "name": "stderr",
     "output_type": "stream",
     "text": [
      "C:\\Users\\kayja\\anaconda3\\lib\\site-packages\\sklearn\\utils\\validation.py:1688: FutureWarning: Feature names only support names that are all strings. Got feature names with dtypes: ['tuple']. An error will be raised in 1.2.\n",
      "  warnings.warn(\n"
     ]
    },
    {
     "data": {
      "image/png": "[encoded data removed]",
      "text/plain": [
       "<Figure size 432x288 with 1 Axes>"
      ]
     },
     "metadata": {
      "needs_background": "light"
     },
     "output_type": "display_data"
    },
    {
     "data": {
      "text/plain": [
       "((5631, 2), (5631,))"
      ]
     },
     "execution_count": 7,
     "metadata": {},
     "output_type": "execute_result"
    }
   ],
   "source": [
    "small = tracks['set', 'subset'] <= 'small'\n",
    "genre1 = tracks['track', 'genre_top'] == 'Instrumental'\n",
    "genre2 = tracks['track', 'genre_top'] == 'Hip-Hop'\n",
    "\n",
    "print(small.shape, genre1.shape, genre2.shape)\n",
    "\n",
    "X = features.loc[small & (genre1 | genre2), 'mfcc']\n",
    "X = skl.decomposition.PCA(n_components=2).fit_transform(X)\n",
    "\n",
    "y = tracks.loc[small & (genre1 | genre2), ('track', 'genre_top')]\n",
    "y = skl.preprocessing.LabelEncoder().fit_transform(y)\n",
    "\n",
    "plt.scatter(X[:,0], X[:,1], c=y, cmap='RdBu', alpha=0.9)\n",
    "plt.show()\n",
    "X.shape, y.shape"
   ]
  },
  {
   "cell_type": "markdown",
   "metadata": {},
   "source": [
    "#### Multiple Genres"
   ]
  },
  {
   "cell_type": "code",
   "execution_count": 8,
   "metadata": {},
   "outputs": [
    {
     "name": "stdout",
     "output_type": "stream",
     "text": [
      "(106574,) (106574,) (106574,)\n"
     ]
    },
    {
     "name": "stderr",
     "output_type": "stream",
     "text": [
      "C:\\Users\\kayja\\anaconda3\\lib\\site-packages\\sklearn\\utils\\validation.py:1688: FutureWarning: Feature names only support names that are all strings. Got feature names with dtypes: ['tuple']. An error will be raised in 1.2.\n",
      "  warnings.warn(\n"
     ]
    },
    {
     "data": {
      "image/png": "[encoded data removed]",
      "text/plain": [
       "<Figure size 432x288 with 1 Axes>"
      ]
     },
     "metadata": {
      "needs_background": "light"
     },
     "output_type": "display_data"
    },
    {
     "data": {
      "text/plain": [
       "((17806, 2), (17806,))"
      ]
     },
     "execution_count": 8,
     "metadata": {},
     "output_type": "execute_result"
    }
   ],
   "source": [
    "small = tracks['set', 'subset'] <= 'small'\n",
    "genre1 = tracks['track', 'genre_top'] == 'Instrumental'\n",
    "genre2 = tracks['track', 'genre_top'] == 'Hip-Hop'\n",
    "genre3 = tracks['track', 'genre_top'] == 'Folk'\n",
    "genre4 = tracks['track', 'genre_top'] == 'Electronic'\n",
    "\n",
    "print(small.shape, genre1.shape, genre2.shape)\n",
    "\n",
    "X = features.loc[small & (genre1 | genre2| genre3| genre4), 'mfcc']\n",
    "X = skl.decomposition.PCA(n_components=2).fit_transform(X)\n",
    "\n",
    "y = tracks.loc[small & (genre1 | genre2| genre3| genre4), ('track', 'genre_top')]\n",
    "y = skl.preprocessing.LabelEncoder().fit_transform(y)\n",
    "\n",
    "plt.scatter(X[:,0], X[:,1], c=y, cmap='RdBu', alpha=0.9)\n",
    "plt.show()\n",
    "X.shape, y.shape"
   ]
  },
  {
   "cell_type": "markdown",
   "metadata": {},
   "source": [
    "### Break into train, validation and test"
   ]
  },
  {
   "cell_type": "code",
   "execution_count": 9,
   "metadata": {},
   "outputs": [
    {
     "name": "stdout",
     "output_type": "stream",
     "text": [
      "(6400, 140)\n",
      "6400 training examples, 800 testing examples\n",
      "140 features, 8 classes\n"
     ]
    }
   ],
   "source": [
    "small = tracks['set', 'subset'] == 'small'\n",
    "\n",
    "train = tracks['set', 'split'] == 'training'\n",
    "val = tracks['set', 'split'] == 'validation'\n",
    "test = tracks['set', 'split'] == 'test'\n",
    "\n",
    "y_train = tracks.loc[small & train, ('track', 'genre_top')]\n",
    "y_val = tracks.loc[small & val, ('track', 'genre_top')]\n",
    "y_test = tracks.loc[small & test, ('track', 'genre_top')]\n",
    "\n",
    "X_train_mfcc = features.loc[small & train, 'mfcc']\n",
    "X_val_mfcc = features.loc[small & val, 'mfcc']\n",
    "X_test_mfcc = features.loc[small & test, 'mfcc']\n",
    "\n",
    "\n",
    "# X_train = pd.concat([X_train_mfcc, X_train_tonnetz], axis=1)\n",
    "# X_val = pd.concat([X_val_mfcc, X_val_tonnetz], axis=1)\n",
    "\n",
    "X_train = X_train_mfcc\n",
    "X_val = X_val_mfcc\n",
    "\n",
    "print(X_train_mfcc.shape)\n",
    "\n",
    "print('{} training examples, {} testing examples'.format(y_train.size, y_val.size))\n",
    "print('{} features, {} classes'.format(X_train.shape[1], np.unique(y_train).size))"
   ]
  },
  {
   "cell_type": "markdown",
   "metadata": {},
   "source": [
    "### Standardize Features and Encode Labels"
   ]
  },
  {
   "cell_type": "code",
   "execution_count": 10,
   "metadata": {},
   "outputs": [
    {
     "name": "stderr",
     "output_type": "stream",
     "text": [
      "C:\\Users\\kayja\\anaconda3\\lib\\site-packages\\sklearn\\utils\\validation.py:1688: FutureWarning: Feature names only support names that are all strings. Got feature names with dtypes: ['tuple']. An error will be raised in 1.2.\n",
      "  warnings.warn(\n",
      "C:\\Users\\kayja\\anaconda3\\lib\\site-packages\\sklearn\\utils\\validation.py:1688: FutureWarning: Feature names only support names that are all strings. Got feature names with dtypes: ['tuple']. An error will be raised in 1.2.\n",
      "  warnings.warn(\n",
      "C:\\Users\\kayja\\anaconda3\\lib\\site-packages\\sklearn\\utils\\validation.py:1688: FutureWarning: Feature names only support names that are all strings. Got feature names with dtypes: ['tuple']. An error will be raised in 1.2.\n",
      "  warnings.warn(\n",
      "C:\\Users\\kayja\\anaconda3\\lib\\site-packages\\sklearn\\utils\\validation.py:1688: FutureWarning: Feature names only support names that are all strings. Got feature names with dtypes: ['tuple']. An error will be raised in 1.2.\n",
      "  warnings.warn(\n"
     ]
    }
   ],
   "source": [
    "#Shuffle training features\n",
    "X_train, y_train = skl.utils.shuffle(X_train, y_train, random_state=42)\n",
    "\n",
    "# Standardize features by removing the mean and scaling to unit variance.\n",
    "scaler = skl.preprocessing.StandardScaler(copy=False)\n",
    "X_train = scaler.fit_transform(X_train)\n",
    "X_val = scaler.transform(X_val)\n",
    "X_test = scaler.transform(X_test_mfcc)"
   ]
  },
  {
   "cell_type": "code",
   "execution_count": 11,
   "metadata": {},
   "outputs": [
    {
     "data": {
      "text/plain": [
       "array(['Electronic', 'Experimental', 'Folk', 'Hip-Hop', 'Instrumental',\n",
       "       'International', 'Pop', 'Rock'], dtype=object)"
      ]
     },
     "execution_count": 11,
     "metadata": {},
     "output_type": "execute_result"
    }
   ],
   "source": [
    "## Label encode y - data\n",
    "from sklearn.preprocessing import LabelEncoder\n",
    "le = LabelEncoder()\n",
    "y_train = le.fit_transform(y_train)\n",
    "y_val = le.fit_transform(y_val)\n",
    "y_test = le.fit_transform(y_test)\n",
    "le.classes_"
   ]
  },
  {
   "cell_type": "code",
   "execution_count": 12,
   "metadata": {},
   "outputs": [],
   "source": [
    "# X_train[:1]"
   ]
  },
  {
   "cell_type": "code",
   "execution_count": 13,
   "metadata": {},
   "outputs": [
    {
     "data": {
      "text/plain": [
       "array([5, 1, 7, 4, 5])"
      ]
     },
     "execution_count": 13,
     "metadata": {},
     "output_type": "execute_result"
    }
   ],
   "source": [
    "y_train[:5]"
   ]
  },
  {
   "cell_type": "markdown",
   "metadata": {},
   "source": [
    "### Build models"
   ]
  },
  {
   "cell_type": "code",
   "execution_count": 14,
   "metadata": {},
   "outputs": [],
   "source": [
    "from sklearn.metrics import f1_score\n",
    "from time import time"
   ]
  },
  {
   "cell_type": "code",
   "execution_count": 15,
   "metadata": {},
   "outputs": [],
   "source": [
    "def train_classifier(clf, X_train, y_train):\n",
    "    ''' Fits a classifier to the training data. '''\n",
    "    \n",
    "    # Start the clock, train the classifier, then stop the clock\n",
    "    start = time()\n",
    "    clf.fit(X_train, y_train)\n",
    "    end = time()\n",
    "    \n",
    "    # Print the results\n",
    "    print(\"Trained model in {:.4f} seconds\".format(end - start))\n",
    "\n",
    "    \n",
    "def predict_labels(clf, features, target):\n",
    "    ''' Makes predictions using a fit classifier based on F1 score. '''\n",
    "    \n",
    "    # Start the clock, make predictions, then stop the clock\n",
    "    start = time()\n",
    "    y_pred = clf.predict(features)\n",
    "    end = time()\n",
    "    \n",
    "    # Print and return results\n",
    "    print(\"Made predictions in {:.4f} seconds.\".format(end - start))\n",
    "    return f1_score(target, y_pred, average='micro', pos_label = 1)\n",
    "\n",
    "\n",
    "def train_predict(clf, X_train, y_train, X_test, y_test):\n",
    "    ''' Train and predict using a classifer based on F1 score. '''\n",
    "    \n",
    "    # Indicate the classifier and the training set size\n",
    "    print(\"Training a {} using a training set size of {}. . .\".format(clf.__class__.__name__, len(X_train)))\n",
    "    \n",
    "    # Train the classifier\n",
    "    train_classifier(clf, X_train, y_train)\n",
    "    \n",
    "    # Print the results of prediction for both training and testing\n",
    "    print(\"F1 score for training set: {:.4f}.\".format(predict_labels(clf, X_train, y_train)))\n",
    "    print(\"F1 score for val set: {:.4f}.\".format(predict_labels(clf, X_val, y_val)))\n",
    "    print(\"F1 score for test set: {:.4f}.\".format(predict_labels(clf, X_test, y_test)))"
   ]
  },
  {
   "cell_type": "code",
   "execution_count": 16,
   "metadata": {},
   "outputs": [
    {
     "name": "stdout",
     "output_type": "stream",
     "text": [
      "\n",
      "DecisionTreeClassifier: \n",
      "\n",
      "Training a DecisionTreeClassifier using a training set size of 6400. . .\n",
      "Trained model in 0.3011 seconds\n",
      "Made predictions in 0.0000 seconds.\n",
      "F1 score for training set: 0.3625.\n",
      "Made predictions in 0.0000 seconds.\n",
      "F1 score for val set: 0.3225.\n",
      "Made predictions in 0.0000 seconds.\n",
      "F1 score for test set: 0.3225.\n",
      "\n",
      "SVC: \n",
      "\n",
      "Training a SVC using a training set size of 6400. . .\n",
      "Trained model in 3.4612 seconds\n",
      "Made predictions in 5.1793 seconds.\n",
      "F1 score for training set: 0.7581.\n",
      "Made predictions in 0.6359 seconds.\n",
      "F1 score for val set: 0.5312.\n",
      "Made predictions in 0.6477 seconds.\n",
      "F1 score for test set: 0.5312.\n",
      "\n",
      "LogisticRegression: \n",
      "\n",
      "Training a LogisticRegression using a training set size of 6400. . .\n"
     ]
    },
    {
     "name": "stderr",
     "output_type": "stream",
     "text": [
      "C:\\Users\\kayja\\anaconda3\\lib\\site-packages\\sklearn\\linear_model\\_logistic.py:814: ConvergenceWarning: lbfgs failed to converge (status=1):\n",
      "STOP: TOTAL NO. of ITERATIONS REACHED LIMIT.\n",
      "\n",
      "Increase the number of iterations (max_iter) or scale the data as shown in:\n",
      "    https://scikit-learn.org/stable/modules/preprocessing.html\n",
      "Please also refer to the documentation for alternative solver options:\n",
      "    https://scikit-learn.org/stable/modules/linear_model.html#logistic-regression\n",
      "  n_iter_i = _check_optimize_result(\n"
     ]
    },
    {
     "name": "stdout",
     "output_type": "stream",
     "text": [
      "Trained model in 0.3382 seconds\n",
      "Made predictions in 0.0030 seconds.\n",
      "F1 score for training set: 0.5605.\n",
      "Made predictions in 0.0010 seconds.\n",
      "F1 score for val set: 0.4875.\n",
      "Made predictions in 0.0000 seconds.\n",
      "F1 score for test set: 0.4875.\n",
      "\n",
      "RandomForestClassifier: \n",
      "\n",
      "Training a RandomForestClassifier using a training set size of 6400. . .\n",
      "Trained model in 10.4833 seconds\n",
      "Made predictions in 0.3512 seconds.\n",
      "F1 score for training set: 0.9267.\n",
      "Made predictions in 0.0625 seconds.\n",
      "F1 score for val set: 0.5188.\n",
      "Made predictions in 0.0473 seconds.\n",
      "F1 score for test set: 0.5188.\n"
     ]
    }
   ],
   "source": [
    "from sklearn.tree import DecisionTreeClassifier\n",
    "from sklearn.svm import SVC\n",
    "#from sklearn.naive_bayes import GaussianNB\n",
    "from sklearn.linear_model import LogisticRegression\n",
    "from sklearn.ensemble import RandomForestClassifier\n",
    "\n",
    "# TODO: Initialize the three models\n",
    "clf_A = DecisionTreeClassifier(random_state=10, max_depth =4)\n",
    "clf_B = SVC()\n",
    "clf_C = LogisticRegression()\n",
    "clf_D = RandomForestClassifier(random_state=10, max_depth=30, n_estimators=300, min_samples_leaf=6, min_impurity_decrease=0.0002,\n",
    "                     class_weight='balanced')\n",
    "\n",
    "for clf in [clf_A, clf_B, clf_C, clf_D]:\n",
    "    print(\"\\n{}: \\n\".format(clf.__class__.__name__))\n",
    "    train_predict(clf, X_train, y_train, X_val, y_val)"
   ]
  },
  {
   "cell_type": "code",
   "execution_count": 17,
   "metadata": {},
   "outputs": [
    {
     "name": "stdout",
     "output_type": "stream",
     "text": [
      "(800,) (800,)\n",
      "               precision    recall  f1-score   support\n",
      "\n",
      "   Electronic       0.44      0.60      0.51       100\n",
      " Experimental       0.34      0.44      0.38       100\n",
      "         Folk       0.24      0.20      0.22       100\n",
      "      Hip-Hop       0.63      0.68      0.65       100\n",
      " Instrumental       0.51      0.42      0.46       100\n",
      "International       0.54      0.48      0.51       100\n",
      "          Pop       0.34      0.25      0.29       100\n",
      "         Rock       0.66      0.64      0.65       100\n",
      "\n",
      "     accuracy                           0.46       800\n",
      "    macro avg       0.46      0.46      0.46       800\n",
      " weighted avg       0.46      0.46      0.46       800\n",
      "\n"
     ]
    }
   ],
   "source": [
    "from sklearn.metrics import classification_report\n",
    "\n",
    "y_true = y_test\n",
    "y_pred = clf_B.predict(X_test)\n",
    "labels = [0,1,2,3,4,5,6,7]\n",
    "target_names = le.inverse_transform(labels)\n",
    "\n",
    "print(y_true.shape, y_pred.shape)\n",
    "print(classification_report(y_true, y_pred, target_names=target_names))"
   ]
  },
  {
   "cell_type": "code",
   "execution_count": 18,
   "metadata": {},
   "outputs": [
    {
     "name": "stdout",
     "output_type": "stream",
     "text": [
      "0.46375\n"
     ]
    }
   ],
   "source": [
    "from sklearn.metrics import accuracy_score\n",
    "print(accuracy_score(y_true, y_pred))"
   ]
  },
  {
   "cell_type": "code",
   "execution_count": 19,
   "metadata": {},
   "outputs": [
    {
     "name": "stdout",
     "output_type": "stream",
     "text": [
      "[[60  9  0 11  4  3  7  6]\n",
      " [11 44  6  1 19  5  8  6]\n",
      " [ 3 35 20  0  6 17 11  8]\n",
      " [13  5  3 68  3  2  3  3]\n",
      " [ 5 23 23  0 42  1  6  0]\n",
      " [13  1 21 11  1 48  4  1]\n",
      " [29  3  8 13  1 12 25  9]\n",
      " [ 3  9  4  4  6  1  9 64]]\n"
     ]
    }
   ],
   "source": [
    "from sklearn.metrics import confusion_matrix\n",
    "print(confusion_matrix(y_true, y_pred))"
   ]
  },
  {
   "cell_type": "code",
   "execution_count": null,
   "metadata": {},
   "outputs": [],
   "source": []
  }
 ],
 "metadata": {
  "kernelspec": {
   "display_name": "Python 3 (ipykernel)",
   "language": "python",
   "name": "python3"
  },
  "language_info": {
   "codemirror_mode": {
    "name": "ipython",
    "version": 3
   },
   "file_extension": ".py",
   "mimetype": "text/x-python",
   "name": "python",
   "nbconvert_exporter": "python",
   "pygments_lexer": "ipython3",
   "version": "3.9.7"
  }
 },
 "nbformat": 4,
 "nbformat_minor": 4
}
